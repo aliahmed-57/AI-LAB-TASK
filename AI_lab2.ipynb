{
  "nbformat": 4,
  "nbformat_minor": 0,
  "metadata": {
    "colab": {
      "provenance": [],
      "authorship_tag": "ABX9TyPrBETFePyRLMV+YRJZbjUd",
      "include_colab_link": true
    },
    "kernelspec": {
      "name": "python3",
      "display_name": "Python 3"
    },
    "language_info": {
      "name": "python"
    }
  },
  "cells": [
    {
      "cell_type": "markdown",
      "metadata": {
        "id": "view-in-github",
        "colab_type": "text"
      },
      "source": [
        "<a href=\"https://colab.research.google.com/github/aliahmed-57/AI-LAB-TASK/blob/main/AI_lab2.ipynb\" target=\"_parent\"><img src=\"https://colab.research.google.com/assets/colab-badge.svg\" alt=\"Open In Colab\"/></a>"
      ]
    },
    {
      "cell_type": "code",
      "execution_count": null,
      "metadata": {
        "id": "vgQdD5bh4XX1"
      },
      "outputs": [],
      "source": []
    },
    {
      "cell_type": "markdown",
      "source": [
        "Activity 1\n",
        "Accept two lists from user and display their join.\n",
        "solution:"
      ],
      "metadata": {
        "id": "S3ShHivF7Vu0"
      }
    },
    {
      "cell_type": "code",
      "source": [
        "myList1=[]\n",
        "print(\"Enter object of first list...\")\n",
        "for i in range(5):\n",
        "  val=input(\"Enter a value\")\n",
        "  n=int(val)\n",
        "  myList1.append(n)\n",
        "\n",
        "myList2=[]\n",
        "print(\"Enter object of Second list...\")\n",
        "for i in range(5):\n",
        "   val=input(\"Enter a value\")\n",
        "   n=int(val)\n",
        "   myList2.append(n)\n",
        "\n",
        "list3=myList1+myList2;\n",
        "print(list3)\n",
        "\n"
      ],
      "metadata": {
        "colab": {
          "base_uri": "https://localhost:8080/"
        },
        "id": "tbF_Olri7m1g",
        "outputId": "b8dae210-17e8-4161-f9e5-e07b74263308"
      },
      "execution_count": 2,
      "outputs": [
        {
          "output_type": "stream",
          "name": "stdout",
          "text": [
            "Enter object of first list...\n",
            "Enter a value3\n",
            "Enter a value1\n",
            "Enter a value2\n",
            "Enter a value3\n",
            "Enter a value4\n",
            "Enter object of Second list...\n",
            "Enter a value3\n",
            "Enter a value1\n",
            "Enter a value2\n",
            "Enter a value3\n",
            "Enter a value4\n",
            "[3, 1, 2, 3, 4, 3, 1, 2, 3, 4]\n"
          ]
        }
      ]
    },
    {
      "cell_type": "markdown",
      "source": [
        "Activity 2:\n",
        "A palindrome is a string which is same read forward or backwards.\n",
        "For example: \"dad\" is the same in forward or reverse direction. Another example is \"aibohphobia\" \n",
        "which literally means, an irritable fear of palindromes.\n",
        "Write a function in python that receives a string and returns True if that string is a palindrome and \n",
        "False otherwise. Remember that difference between upper and lower case characters are ignored \n",
        "during this determination.\n",
        "Solution:"
      ],
      "metadata": {
        "id": "Ok2bK1nK9dr8"
      }
    },
    {
      "cell_type": "code",
      "source": [
        "def ispalindrome(word):\n",
        "  temp=word[::-1]\n",
        "  if temp.capitalize()==word.capitalize():\n",
        "    return True\n",
        "  else:\n",
        "      return False\n",
        "print(ispalindrome(\"deed\"))"
      ],
      "metadata": {
        "colab": {
          "base_uri": "https://localhost:8080/"
        },
        "id": "b2sB4faL9mUi",
        "outputId": "01558fff-7bcd-4bb4-d9d4-cee616808f06"
      },
      "execution_count": 3,
      "outputs": [
        {
          "output_type": "stream",
          "name": "stdout",
          "text": [
            "True\n"
          ]
        }
      ]
    },
    {
      "cell_type": "markdown",
      "source": [
        "Activity 3:\n",
        "Imagine two matrices given in the form of 2D lists as under; a = [[1, 0, 0], [0, 1, 0], [0, 0, 1] ]\n",
        "b = [[1, 2, 3], [4, 5, 6], [7, 8, 9] ]\n",
        "Write a python code that finds another matrix/2D list that is a product of and b, i.e., C=a*b\n",
        "Solution:"
      ],
      "metadata": {
        "id": "Bm679wXY-jTO"
      }
    },
    {
      "cell_type": "code",
      "source": [
        "c=[]\n",
        "a=[]\n",
        "b=[]\n",
        "for indrow in range (3):\n",
        "     c.append ([])\n",
        "     for indcol in range (3):\n",
        "       c[indrow].append(0)\n",
        "       for indaux in range (3):\n",
        "         c[indaux]+=a[indrow][indaux]*b[indcol][indaux]\n",
        "print(c)\n",
        "\n"
      ],
      "metadata": {
        "id": "RiJU-UUd-sc8"
      },
      "execution_count": null,
      "outputs": []
    },
    {
      "cell_type": "markdown",
      "source": [
        "Activity 4:\n",
        "A closed polygon with N sides can be represented as a list of tuples of N connected coordinates, i.e.,\n",
        "[ (x1,y1), (x2,y2), (x3,y3), . . . , (xN,yN) ]. A sample polygon with 6 sides (N=6) is shown below.\n",
        "Figure 3 - Polygon\n",
        "34\n",
        "Write a python function that takes a list of N tuples as input and returns the perimeter of the \n",
        "polygon. Remember that your code should work for any value of N.\n",
        "Hint: A perimeter is the sum of all sides of a polygon.\n",
        "Solution:"
      ],
      "metadata": {
        "id": "LYw1jHeDB1PX"
      }
    },
    {
      "cell_type": "code",
      "source": [
        "def perimeter(listing):\n",
        "  leng=len(listing)\n",
        "  perimeter=0\n",
        "  for i in range(0,leng-1):\n",
        "    dist=((listing[i][0]-listing[i+1][0])**2)+((listing[i][1]-listing[i+1][1])**2)**0.5\n",
        "    perimeter=perimeter+dist\n",
        "  perimeter=perimeter + (((listing[0][0]-listing[leng-1][0])**2)+((listing[0][1]-listing[leng-1][1]**2))**0.5)\n",
        "  return perimeter\n",
        "L=[(1,3),(2,7),(3,9),(-1,8)]\n",
        "print(perimeter(L))"
      ],
      "metadata": {
        "colab": {
          "base_uri": "https://localhost:8080/"
        },
        "id": "TelJc-UvB8Hz",
        "outputId": "5d5f088c-2eff-4d40-8f31-4073d8db062b"
      },
      "execution_count": 5,
      "outputs": [
        {
          "output_type": "stream",
          "name": "stdout",
          "text": [
            "(29+7.810249675906654j)\n"
          ]
        }
      ]
    },
    {
      "cell_type": "markdown",
      "source": [
        "Activity 5:\n",
        "Imagine two sets A and B containing numbers. Without using built-in set functionalities, write your \n",
        "own function that receives two such sets and returns another set C which is a symmetric difference \n",
        "of the two input sets. (A symmetric difference between A and B will return a set C which contains \n",
        "only those items that appear in one of A or B. Any items that appear in both sets are not included in \n",
        "C). Now compare the output of your function with the following built-in functions/operators.\n",
        "✓ A.symmetric_difference(B)\n",
        "✓ B.symmetric_difference(A)\n",
        "✓ A ^ B\n",
        "✓ B ^ A"
      ],
      "metadata": {
        "id": "UZCjT59IERjd"
      }
    },
    {
      "cell_type": "code",
      "source": [
        "def symmDiff(a,b):\n",
        "  e = set()\n",
        "  for i in a :\n",
        "    if i not in b:\n",
        "      e.add(i)\n",
        "      for i in b:\n",
        "        if i not in a:\n",
        "          e.add(i)\n",
        "          return e \n",
        "  set1={0,1,2,3,4}\n",
        "  set2={6,7,8,9,5}\n",
        "  print(symmDiff(set1,set2))\n",
        "\n",
        "  print(set1.symmetric_difference(set2))\n",
        "  print(set2.symmetric_difference(set1))\n",
        "  print(set1^set2)\n",
        "  print(set2^set1)\n"
      ],
      "metadata": {
        "id": "BZqPprwVEXm9"
      },
      "execution_count": 6,
      "outputs": []
    },
    {
      "cell_type": "markdown",
      "source": [
        "Activity 6:\n",
        "Create a Python program that contains a dictionary of names and phone numbers. Use a tuple of \n",
        "separate first and last name values for the key field. Initialize the dictionary with at least three \n",
        "names and numbers. Ask the user to search for a phone number by entering a first and last name. \n",
        "Display the matching number if found, or a message if not found.\n",
        "Solution:\n"
      ],
      "metadata": {
        "id": "gvUrRM29FKYk"
      }
    },
    {
      "cell_type": "code",
      "source": [
        "sample = {(\"malik\",\"ahmed\"):\"0377637373\",(\"khan\",\"li\"):\"767637\", (\"junaid\",\"laraib\"):\"676323\",}\n",
        "firstName = input(\"Enter First Name\")\n",
        "lastName = input(\"Enter Last Name\")\n",
        "\n",
        "searchTuple = (firstName, lastName)\n",
        "if searchTuple in sample:\n",
        "  print(sample[searchTuple])\n",
        "else:\n",
        "    print(\"Name not found\")\n",
        "\n"
      ],
      "metadata": {
        "colab": {
          "base_uri": "https://localhost:8080/"
        },
        "id": "gc1LzLD_FO3R",
        "outputId": "031a3d66-028d-4a0e-9c78-d8df0ea8fc84"
      },
      "execution_count": 7,
      "outputs": [
        {
          "output_type": "stream",
          "name": "stdout",
          "text": [
            "Enter First NameAhmed\n",
            "Enter Last NameAli\n",
            "Name not found\n"
          ]
        }
      ]
    }
  ]
}