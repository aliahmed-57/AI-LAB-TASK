{
  "nbformat": 4,
  "nbformat_minor": 0,
  "metadata": {
    "colab": {
      "provenance": [],
      "collapsed_sections": [],
      "authorship_tag": "ABX9TyMGYbUohWopElRdHCU6n4e9",
      "include_colab_link": true
    },
    "kernelspec": {
      "name": "python3",
      "display_name": "Python 3"
    },
    "language_info": {
      "name": "python"
    }
  },
  "cells": [
    {
      "cell_type": "markdown",
      "metadata": {
        "id": "view-in-github",
        "colab_type": "text"
      },
      "source": [
        "<a href=\"https://colab.research.google.com/github/aliahmed-57/AI-LAB-TASK/blob/main/AI_lab4.ipynb\" target=\"_parent\"><img src=\"https://colab.research.google.com/assets/colab-badge.svg\" alt=\"Open In Colab\"/></a>"
      ]
    },
    {
      "cell_type": "code",
      "execution_count": null,
      "metadata": {
        "colab": {
          "base_uri": "https://localhost:8080/"
        },
        "id": "-VtWNW-7A-Qq",
        "outputId": "453862a4-71fb-47e1-c3d9-ffe3ea7cccc9"
      },
      "outputs": [
        {
          "output_type": "stream",
          "name": "stdout",
          "text": [
            "A\n",
            "C\n",
            "G\n",
            "F\n",
            "E\n",
            "['A', 'C', 'E']\n",
            "['A', 'E', 'D']\n"
          ]
        }
      ],
      "source": [
        "class Node:\n",
        "  def __init__(self,state,parent,actions,totalCost):\n",
        "    self.state=state\n",
        "    self.parent=parent\n",
        "    self.actions=actions\n",
        "    self.totalCost=totalCost\n",
        "graph={'A':Node('A',None,['B','E','C'], None),\n",
        "       'B':Node('B',None,['D','E','A'], None),\n",
        "       'C':Node('C',None,['A','F','G'], None),\n",
        "       'D':Node('D',None,['B','E'], None),\n",
        "       'E':Node('E',None,['A','B','D'], None),\n",
        "       'F':Node('F',None,['C'], None),\n",
        "       'G':Node('G',None,['C'], None)}\n",
        "def DFS():\n",
        "  initialState='A'\n",
        "  goalState='D'\n",
        "  graph={'A':Node('A',None,['B','E','C'], None),\n",
        "       'B':Node('B',None,['D','E','A'], None),\n",
        "       'C':Node('C',None,['A','F','G'], None),\n",
        "       'D':Node('D',None,['B','E'], None),\n",
        "       'E':Node('E',None,['A','B','D'], None),\n",
        "       'F':Node('F',None,['C'], None),\n",
        "       'G':Node('G',None,['C'], None)}\n",
        "  frontier=[initialState]\n",
        "  explored=[]\n",
        "  while len(frontier)!=0:\n",
        "    currentNode=frontier.pop(len(frontier)-1)\n",
        "    print(currentNode)\n",
        "    explored.append(currentNode)\n",
        "    currentChildren=0\n",
        "    for child in graph[currentNode].actions:\n",
        "      if child not in frontier and child not in explored:\n",
        "        graph[child].parent=currentNode\n",
        "        if graph[child].state==goalState:\n",
        "          print(explored)\n",
        "          return actionSequence(graph,initialState,goalState)\n",
        "        currentChildren=currentChildren+1\n",
        "        frontier.append(child)\n",
        "    if currentChildren==0:\n",
        "      del explored[len(explored)-1]\n",
        "def actionSequence(graph,initialState,goalState):\n",
        "  solution=[goalState]\n",
        "  CurrentParent=graph[goalState].parent\n",
        "  while CurrentParent!=None:\n",
        "    solution.append(CurrentParent)\n",
        "    CurrentParent=graph[CurrentParent].parent\n",
        "\n",
        "  solution.reverse()\n",
        "  return solution\n",
        "solution=DFS()\n",
        "print(solution)"
      ]
    },
    {
      "cell_type": "markdown",
      "source": [
        "Ativity no 2\n",
        "Change initial state to D and set goal state as C. What will be resulting path of BFS search? What \n",
        "will be the sequence of nodes explored?"
      ],
      "metadata": {
        "id": "-qDBWDKPLKsN"
      }
    },
    {
      "cell_type": "code",
      "source": [
        "class Node:\n",
        "  def __init__(self,state,parent,actions,totalCost):\n",
        "    self.state=state\n",
        "    self.parent=parent\n",
        "    self.actions=actions\n",
        "    self.totalCost=totalCost\n",
        "graph={'A':Node('A',None,['B','E','C'], None),\n",
        "       'B':Node('B',None,['D','E','A'], None),\n",
        "       'C':Node('C',None,['A','F','G'], None),\n",
        "       'D':Node('D',None,['B','E'], None),\n",
        "       'E':Node('E',None,['A','B','D'], None),\n",
        "       'F':Node('F',None,['C'], None),\n",
        "       'G':Node('G',None,['C'], None)}\n",
        "def DFS():\n",
        "  initialState='D'\n",
        "  goalState='C'\n",
        "  graph={'A':Node('A',None,['B','E','C'], None),\n",
        "       'B':Node('B',None,['D','E','A'], None),\n",
        "       'C':Node('C',None,['A','F','G'], None),\n",
        "       'D':Node('D',None,['B','E'], None),\n",
        "       'E':Node('E',None,['A','B','D'], None),\n",
        "       'F':Node('F',None,['C'], None),\n",
        "       'G':Node('G',None,['C'], None)}\n",
        "  frontier=[initialState]\n",
        "  explored=[]\n",
        "  while len(frontier)!=0:\n",
        "    currentNode=frontier.pop(len(frontier)-1)\n",
        "    print(currentNode)\n",
        "    explored.append(currentNode)\n",
        "    currentChildren=0\n",
        "    for child in graph[currentNode].actions:\n",
        "      if child not in frontier and child not in explored:\n",
        "        graph[child].parent=currentNode\n",
        "        if graph[child].state==goalState:\n",
        "          print(explored)\n",
        "          return actionSequence(graph,initialState,goalState)\n",
        "        currentChildren=currentChildren+1\n",
        "        frontier.append(child)\n",
        "    if currentChildren==0:\n",
        "      del explored[len(explored)-1]\n",
        "def actionSequence(graph,initialState,goalState):\n",
        "  solution=[goalState]\n",
        "  CurrentParent=graph[goalState].parent\n",
        "  while CurrentParent!=None:\n",
        "    solution.append(CurrentParent)\n",
        "    CurrentParent=graph[CurrentParent].parent\n",
        "\n",
        "  solution.reverse()\n",
        "  return solution\n",
        "solution=DFS()\n",
        "print(solution)"
      ],
      "metadata": {
        "colab": {
          "base_uri": "https://localhost:8080/"
        },
        "id": "Vj4zwzhfLTxA",
        "outputId": "4d36b1a5-2f18-474c-b7c5-c0880d5ec1f5"
      },
      "execution_count": null,
      "outputs": [
        {
          "output_type": "stream",
          "name": "stdout",
          "text": [
            "D\n",
            "E\n",
            "A\n",
            "['D', 'E', 'A']\n",
            "['D', 'E', 'A', 'C']\n"
          ]
        }
      ]
    },
    {
      "cell_type": "markdown",
      "source": [
        "Lab Task 1:\n",
        "Imagine going from Arad to Bucharest in the following map. Your goal is to minimize the distance \n",
        "mentioned in the map during your travel. Implement a depth first search to find the corresponding \n",
        "path.\n"
      ],
      "metadata": {
        "id": "Li1jg0AAXLG4"
      }
    },
    {
      "cell_type": "code",
      "source": [
        "class Node:\n",
        "  def __init__(self, state, parent, actions, totalCost):\n",
        "    self.state = state\n",
        "    self.parent = parent\n",
        "    self.actions = actions\n",
        "    self.totalCost = totalCost\n",
        "  \n",
        "def DFS():\n",
        "  initialState = input(\"Enter initial Node: \")\n",
        "  destinationState = input(\"Enter destination Node: \")\n",
        "\n",
        "  graph = {'Oradea': Node('Oradea', None, ['Zerind' , 'Sibui'], None),\n",
        "                  'Zerind': Node('Zerind', None, ['Oradea' , 'Arad'], None),\n",
        "                  'Neamt': Node('Neamt', None, ['Iasi'], None),\n",
        "                  'Arad': Node('Arad', None, ['Zerind', 'Sibui' , 'Timisoara'], None),\n",
        "                  'Isai': Node('Isai', None, ['Neamt','Vaslui'], None),\n",
        "                  'Sibui': Node('Sibui', None, ['Oradea', 'Arad' , 'Fagaras'], None),\n",
        "                  'Fagaras': Node('Fagaras', None, ['Sibui', 'Bucharest'], None),\n",
        "                  'Vaslui': Node('Vaslui', None, ['Isai','Urziceni'], None),\n",
        "                  'Timisoara': Node('Timisoara', None, ['Arad','Lugoj'], None),\n",
        "                  'Riminica': Node('Riminica', None, ['Sibui','Pitesti','Craiova'], None),\n",
        "                  'Lugoj': Node('Lugoj', None, ['Timisoara','Mehadia'], None),\n",
        "                  'Pitesti': Node('Pitesti', None, ['Riminica','Craiova','Bucharest'], None),\n",
        "                  'Mehadia': Node('Mehadia', None, ['Lugoj','Drobeta'], None),\n",
        "                  'Bucharest': Node('Bucharest', None, ['Fagaras','Pitesti','Urziceni'], None),\n",
        "                  'Urziceni': Node('Urziceni', None, ['Bucharest','Hirsova','Vaslui'], None),\n",
        "                  'Hirsova': Node('Hirsova', None, ['Urziceni','Eforie'], None),\n",
        "                  'Drobeta': Node('Drobeta', None, ['Mehadia','Craiova'], None),\n",
        "                  'Craiova': Node('Craiova', None, ['Drobeta','Riminica','Pitesti'], None),\n",
        "                  'Giurgui': Node('Giurgui', None, ['Bucharest'], None),\n",
        "                  'Eforie': Node('Eforie', None, ['Hirsova'], None)}\n",
        "  frontierList = [initialState]\n",
        "  visitedList = []\n",
        "\n",
        "  while len(frontierList) != 0:\n",
        "    currentNode = frontierList.pop(len(frontierList)-1)\n",
        "    visitedList.append(currentNode)\n",
        "    currentChildren = 0\n",
        "    for child in graph[currentNode].actions:\n",
        "      if child not in frontierList and child not in visitedList:\n",
        "        graph[child].parent = currentNode\n",
        "        if graph[child].state == destinationState:\n",
        "          print(\"Explored Nodes are: \", visitedList)\n",
        "          return roadMap(graph, initialState, destinationState)\n",
        "        currentChildren = currentChildren + 1\n",
        "        frontierList.append(child)\n",
        "    if currentChildren == 0:\n",
        "      del visitedList[len(visitedList)-1]\n",
        "\n",
        "def roadMap(graph, initialState, destinationState):\n",
        "  solution = [destinationState]\n",
        "  currentParent = graph[destinationState].parent\n",
        "\n",
        "  while currentParent != None:\n",
        "    solution.append(currentParent)\n",
        "    currentParent = graph[currentParent].parent\n",
        "  solution.reverse()\n",
        "  return solution\n",
        "\n",
        "sol = DFS()\n",
        "print(sol)"
      ],
      "metadata": {
        "id": "gLLkLadOXQJw",
        "colab": {
          "base_uri": "https://localhost:8080/"
        },
        "outputId": "6e855c82-d86f-4fd2-9809-9e23d0dcb4ce"
      },
      "execution_count": 2,
      "outputs": [
        {
          "output_type": "stream",
          "name": "stdout",
          "text": [
            "Enter initial Node: Arad\n",
            "Enter destination Node: Bucharest\n",
            "Explored Nodes are:  ['Arad', 'Timisoara', 'Lugoj', 'Mehadia', 'Drobeta', 'Craiova', 'Pitesti']\n",
            "['Arad', 'Timisoara', 'Lugoj', 'Mehadia', 'Drobeta', 'Craiova', 'Pitesti', 'Bucharest']\n"
          ]
        }
      ]
    },
    {
      "cell_type": "markdown",
      "source": [
        "Lab Task 2:\n",
        "Generate a list of possible words from a character matrix\n",
        "Given an M × N boggle board, find a list of all possible words that can be formed by a sequence of \n",
        "adjacent characters on the board.\n",
        "We are allowed to search a word in all eight possible directions, i.e., North, West, South, East, North\u0002East, North-West, South-East, South-West, but a word should not have multiple instances of the same \n",
        "cell.\n",
        "Consider the following the traditional 4 × 4 \n",
        "boggle board. If the input dictionary is [START, \n",
        "NOTE, SAND, STONED], the valid words are \n",
        "[NOTE, SAND, STONED].\n"
      ],
      "metadata": {
        "id": "GaVxRG7wlpU4"
      }
    },
    {
      "cell_type": "code",
      "source": [
        "class Trie:\n",
        "    # Constructor\n",
        "    def __init__(self):\n",
        "        self.character = {}\n",
        "        self.isLeaf = False  # true when the node is a leaf node\n",
        " \n",
        " \n",
        "# Iterative function to insert a string into a Trie\n",
        "def insert(root, s):\n",
        "    # start from the root node\n",
        "    curr = root\n",
        " \n",
        "    for ch in s:\n",
        "        # go to the next node (create if the path doesn't exist)\n",
        "        curr = curr.character.setdefault(ch, Trie())\n",
        " \n",
        "    curr.isLeaf = True\n",
        " \n",
        " \n",
        "# Below lists detail all eight possible movements from a cell\n",
        "# (top, right, bottom, left, and four diagonal moves)\n",
        "row = [-1, -1, -1, 0, 1, 0, 1, 1]\n",
        "col = [-1, 1, 0, -1, -1, 1, 0, 1]\n",
        " \n",
        " \n",
        "# The function returns false if (x, y) is not valid matrix coordinates\n",
        "# or cell (x, y) is already processed or doesn't lead to the solution\n",
        "def isSafe(x, y, processed, board, ch):\n",
        "    return (0 <= x < len(processed)) and (0 <= y < len(processed[0])) and \\\n",
        "           not processed[x][y] and (board[x][y] == ch)\n",
        " \n",
        " \n",
        "# A recursive function to search valid words present in a boggle using trie\n",
        "def searchBoggle(root, board, i, j, processed, path, result):\n",
        "    # if a leaf node is encountered\n",
        "    if root.isLeaf:\n",
        "        # update result with the current word\n",
        "        result.add(path)\n",
        " \n",
        "    # mark the current cell as processed\n",
        "    processed[i][j] = True\n",
        " \n",
        "    # traverse all children of the current Trie node\n",
        "    for key, value in root.character.items():\n",
        " \n",
        "        # check for all eight possible movements from the current cell\n",
        "        for k in range(len(row)):\n",
        " \n",
        "            # skip if a cell is invalid, or it is already processed\n",
        "            # or doesn't lead to any path in the Trie\n",
        "            if isSafe(i + row[k], j + col[k], processed, board, key):\n",
        "                searchBoggle(value, board, i + row[k], j + col[k],\n",
        "                             processed, path + key, result)\n",
        " \n",
        "    # backtrack: mark the current cell as unprocessed\n",
        "    processed[i][j] = False\n",
        " \n",
        " \n",
        "# Function to search for a given set of words in a boggle\n",
        "def searchInBoggle(board, words):\n",
        "    # construct a set for storing the result\n",
        "    result = set()\n",
        " \n",
        "    # base case\n",
        "    if not board or not len(board):\n",
        "        return\n",
        " \n",
        "    # insert all words into a trie\n",
        "    root = Trie()\n",
        "    for word in words:\n",
        "        insert(root, word)\n",
        " \n",
        "    # `M × N` board\n",
        "    (M, N) = (len(board), len(board[0]))\n",
        " \n",
        "    # construct a matrix to store whether a cell is processed or not\n",
        "    processed = [[False for x in range(N)] for y in range(M)]\n",
        " \n",
        "    # consider each character in the matrix\n",
        "    for i in range(M):\n",
        "        for j in range(N):\n",
        "            ch = board[i][j]  # current character\n",
        " \n",
        "            # proceed only if the current character is a child of the Trie root node\n",
        "            if ch in root.character:\n",
        "                searchBoggle(root.character[ch], board, i, j, processed, ch, result)\n",
        " \n",
        "    # return the result set\n",
        "    return result\n",
        " \n",
        " \n",
        "\n",
        "# Board\n",
        "board = [\n",
        "    ['M', 'S', 'E', 'F'],\n",
        "    ['R', 'A', 'T', 'D'],\n",
        "    ['L', 'O', 'N', 'E'],\n",
        "    ['K', 'A', 'F', 'B']\n",
        "  ]\n",
        "\n",
        "# Words\n",
        "words = ['START', 'NOTE', 'SAND', 'STONED']\n",
        "searchInBoggle(board, words)\n",
        "\n",
        "validWords = searchInBoggle(board, words)\n",
        "print(validWords)"
      ],
      "metadata": {
        "colab": {
          "base_uri": "https://localhost:8080/"
        },
        "id": "Uth1pIkYlvok",
        "outputId": "5b1488a1-7681-4290-9445-d45bfaf5ce71"
      },
      "execution_count": 3,
      "outputs": [
        {
          "output_type": "stream",
          "name": "stdout",
          "text": [
            "{'STONED', 'NOTE', 'SAND'}\n"
          ]
        }
      ]
    }
  ]
}