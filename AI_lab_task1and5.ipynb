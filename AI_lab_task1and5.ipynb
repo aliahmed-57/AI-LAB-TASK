{
  "nbformat": 4,
  "nbformat_minor": 0,
  "metadata": {
    "colab": {
      "provenance": [],
      "authorship_tag": "ABX9TyNdy5QZw8ndLZlLjkU/OzE7",
      "include_colab_link": true
    },
    "kernelspec": {
      "name": "python3",
      "display_name": "Python 3"
    },
    "language_info": {
      "name": "python"
    }
  },
  "cells": [
    {
      "cell_type": "markdown",
      "metadata": {
        "id": "view-in-github",
        "colab_type": "text"
      },
      "source": [
        "<a href=\"https://colab.research.google.com/github/aliahmed-57/AI-LAB-TASK/blob/main/AI_lab_task1and5.ipynb\" target=\"_parent\"><img src=\"https://colab.research.google.com/assets/colab-badge.svg\" alt=\"Open In Colab\"/></a>"
      ]
    },
    {
      "cell_type": "code",
      "execution_count": null,
      "metadata": {
        "id": "Cv_9-Pu8jvDe"
      },
      "outputs": [],
      "source": []
    },
    {
      "cell_type": "markdown",
      "source": [
        "Lab Task 1:\n",
        "Write a program that prompts the user to input an integer and then outputs the number with the digits \n",
        "reversed. For example, if the input is 12345, the output should be 54321."
      ],
      "metadata": {
        "id": "hyb6t8T0kJWM"
      }
    },
    {
      "cell_type": "code",
      "source": [
        "n = int(input(\"Enter the number\"))\n",
        "rev = 0\n",
        " \n",
        "while(n > 0):\n",
        "    a = n % 10\n",
        "    rev = rev * 10 + a\n",
        "    n = n // 10\n",
        " \n",
        "print(rev)"
      ],
      "metadata": {
        "id": "ZOyZvSXikL1X"
      },
      "execution_count": null,
      "outputs": []
    },
    {
      "cell_type": "markdown",
      "source": [
        "lab Task5:Write a program that takes a number from user and calculate the factorial of that number\n"
      ],
      "metadata": {
        "id": "s6x2j5IYk_fM"
      }
    },
    {
      "cell_type": "code",
      "source": [
        "n = int (input (\"Enter a number: \"))\n",
        "\n",
        "factorial = 1\n",
        "\n",
        "if n >= 1:\n",
        "\n",
        "              for i in range (1, n+1):\n",
        "\n",
        "                             factorial = factorial *i\n",
        "\n",
        "print (\"Factorial of the given number is: \", factorial)\n",
        "\n"
      ],
      "metadata": {
        "id": "zAh2ZDahmuOU"
      },
      "execution_count": null,
      "outputs": []
    },
    {
      "cell_type": "code",
      "source": [],
      "metadata": {
        "id": "et2H3lASlE7V"
      },
      "execution_count": null,
      "outputs": []
    }
  ]
}