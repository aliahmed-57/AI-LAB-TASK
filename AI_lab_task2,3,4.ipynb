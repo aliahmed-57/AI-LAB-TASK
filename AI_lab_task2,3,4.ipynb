{
  "nbformat": 4,
  "nbformat_minor": 0,
  "metadata": {
    "colab": {
      "provenance": [],
      "collapsed_sections": [],
      "authorship_tag": "ABX9TyNynyHo78xx5Yqh93NWvTgh",
      "include_colab_link": true
    },
    "kernelspec": {
      "name": "python3",
      "display_name": "Python 3"
    },
    "language_info": {
      "name": "python"
    }
  },
  "cells": [
    {
      "cell_type": "markdown",
      "metadata": {
        "id": "view-in-github",
        "colab_type": "text"
      },
      "source": [
        "<a href=\"https://colab.research.google.com/github/aliahmed-57/AI-LAB-TASK/blob/main/AI_lab_task2%2C3%2C4.ipynb\" target=\"_parent\"><img src=\"https://colab.research.google.com/assets/colab-badge.svg\" alt=\"Open In Colab\"/></a>"
      ]
    },
    {
      "cell_type": "code",
      "execution_count": null,
      "metadata": {
        "id": "Y8m771i5lpNv"
      },
      "outputs": [],
      "source": []
    },
    {
      "cell_type": "markdown",
      "source": [
        "lab task 2\n",
        "Write a program that reads a set of integers, and then prints the sum of the even and odd integers."
      ],
      "metadata": {
        "id": "uv5k-uF6lyow"
      }
    },
    {
      "cell_type": "code",
      "source": [
        "numList=[]        #create empty list for entering number\n",
        "evenSum=0       #Declare and initialise a variable as evenSum=0\n",
        "oddSum=0        #Declare and initialise a variable as oddSum=0\n",
        "\n",
        "num=int(input(\"Enter the number of list elements\"))\n",
        "for i in range(1, num+1):\n",
        "    Value=int(input(\"Please enter the value %d : \" %i))\n",
        "    numList.append(Value)\n",
        "\n",
        "    j=0\n",
        "while(j<num):\n",
        "    if(numList[j] %2 ==0):\n",
        "        evenSum=evenSum+numList[j]\n",
        "    else:\n",
        "        oddSum=oddSum+numList[j]\n",
        "    j=j+1\n",
        "\n",
        "print(\"The sum of Even Numbers in this list =\",evenSum)\n",
        "print(\"The sum of odd Numbers in this list =\",oddSum)"
      ],
      "metadata": {
        "id": "bULYeveXl_Ic"
      },
      "execution_count": null,
      "outputs": []
    },
    {
      "cell_type": "markdown",
      "source": [
        "Lab Task 3:\n",
        "Fibonacci series is that when you add the previous two numbers the next number is formed. You have \n",
        "to start from 0 and 1.\n",
        "E.g. 0+1=1 → 1+1=2 → 1+2=3 → 2+3=5 → 3+5=8 → 5+8=13\n",
        "So the series becomes\n",
        "0 1 1 2 3 5 8 13 21 34 55 ……………………………………\n",
        "Steps: You have to take an input number that shows how many terms to be displayed. Then use loops \n",
        "for displaying the Fibonacci series up to that term e.g. input no is =6 the output should be\n",
        "0 1 1 2 3 5"
      ],
      "metadata": {
        "id": "fBSV2FXrmKnx"
      }
    },
    {
      "cell_type": "code",
      "source": [
        "MAX =int(input(\"enter the nmbe\"))\n",
        " f = [0] * MAX\n",
        " \n",
        "\n",
        "def fib(n) :\n",
        "   \n",
        "    if (n == 0) :\n",
        "        return 0\n",
        "    if (n == 1 or n == 2) :\n",
        "        f[n] = 1\n",
        "        return (f[n])\n",
        " \n",
        "\n",
        "    if (f[n]) :\n",
        "        return f[n]\n",
        " \n",
        "    if( n & 1) :\n",
        "        k = (n + 1) // 2\n",
        "    else :\n",
        "        k = n // 2\n",
        " \n",
        ".\n",
        "    if((n & 1) ) :\n",
        "        f[n] = (fib(k) * fib(k) + fib(k-1) * fib(k-1))\n",
        "    else :\n",
        "        f[n] = (2*fib(k-1) + fib(k))*fib(k)\n",
        " \n",
        "    return f[n]\n",
        " \n",
        "n = 9\n",
        "print(fib(n))\n",
        " "
      ],
      "metadata": {
        "id": "UcIJ1_gFQXHq"
      },
      "execution_count": null,
      "outputs": []
    },
    {
      "cell_type": "markdown",
      "source": [
        "lab task 4\n",
        "Write a Python code to accept marks of a student from 1-100 and display the grade according to the \n",
        "following formula.\n",
        "Grade F if marks are less than 50 \n",
        "Grade E if marks are between 50 to 60 \n",
        "Grade D if marks are between 61 to 70 \n",
        "Grade C if marks are between 71 to 80\n",
        "Grade B if marks are between 81 to 90\n",
        "Grade A if marks are between 91 to 100"
      ],
      "metadata": {
        "id": "zCu3yg83RbnG"
      }
    },
    {
      "cell_type": "code",
      "source": [
        "print(\"Enter Marks Obtained in 5 Subjects: \")\n",
        "markOne = int(input())\n",
        "markTwo = int(input())\n",
        "markThree = int(input())\n",
        "markFour = int(input())\n",
        "markFive = int(input())\n",
        "\n",
        "tot = markOne+markTwo+markThree+markFour+markFive\n",
        "avg = tot/5\n",
        "\n",
        "if avg>=91 and avg<=100:\n",
        "    print(\"Your Grade is A1\")\n",
        "elif avg>=81 and avg<91:\n",
        "    print(\"Your Grade is A2\")\n",
        "elif avg>=71 and avg<81:\n",
        "    print(\"Your Grade is B1\")\n",
        "elif avg>=61 and avg<71:\n",
        "    print(\"Your Grade is B2\")\n",
        "elif avg>=51 and avg<61:\n",
        "    print(\"Your Grade is C1\")\n",
        "elif avg>=41 and avg<51:\n",
        "    print(\"Your Grade is C2\")\n",
        "elif avg>=33 and avg<41:\n",
        "    print(\"Your Grade is D\")\n",
        "elif avg>=21 and avg<33:\n",
        "    print(\"Your Grade is E1\")\n",
        "elif avg>=0 and avg<21:\n",
        "    print(\"Your Grade is E2\")\n",
        "else:\n",
        "    print(\"Invalid Input!\")"
      ],
      "metadata": {
        "id": "N9bUcAStRsEm"
      },
      "execution_count": null,
      "outputs": []
    },
    {
      "cell_type": "code",
      "source": [],
      "metadata": {
        "id": "gq3NbZYcPVlL"
      },
      "execution_count": null,
      "outputs": []
    }
  ]
}