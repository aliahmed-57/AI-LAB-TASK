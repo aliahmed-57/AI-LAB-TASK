{
  "nbformat": 4,
  "nbformat_minor": 0,
  "metadata": {
    "colab": {
      "provenance": [],
      "collapsed_sections": [],
      "authorship_tag": "ABX9TyOFmfIiR/ogDzFBIocLYWI7",
      "include_colab_link": true
    },
    "kernelspec": {
      "name": "python3",
      "display_name": "Python 3"
    },
    "language_info": {
      "name": "python"
    }
  },
  "cells": [
    {
      "cell_type": "markdown",
      "metadata": {
        "id": "view-in-github",
        "colab_type": "text"
      },
      "source": [
        "<a href=\"https://colab.research.google.com/github/aliahmed-57/AI-LAB-TASK/blob/main/LAB3_AI.ipynb\" target=\"_parent\"><img src=\"https://colab.research.google.com/assets/colab-badge.svg\" alt=\"Open In Colab\"/></a>"
      ]
    },
    {
      "cell_type": "markdown",
      "source": [
        "Activity 1:\n",
        "Consider a toy problem that can be represented as a following graph. How would you represent this \n",
        "graph in python?\n"
      ],
      "metadata": {
        "id": "dJH6e5DJ7gik"
      }
    },
    {
      "cell_type": "code",
      "source": [
        "class Node:\n",
        "  #state=state       \n",
        "  #class variable Shared by all instance\n",
        "  def __init__(self,state,parent,actions,totalCost):\n",
        "    self.state=state \n",
        "    #instance variable unique to each instance\n",
        "    self.parent=parent\n",
        "    self.actions=actions\n",
        "     #we are not saving action themselves,\n",
        "     #only output states of those actions\n",
        "    self.totalCost=totalCost\n",
        "#we think of a graph as a dictionary,items comprise of nodes,where\n",
        "#each node has a key and a value.key is simply the stste of the node\n",
        "#and value are actual attributes that node object\n",
        "\n",
        "graph={'A':Node('A', None, ['B','C','E'], None),\n",
        "       'B':Node('B', None, ['A','D','E'], None),\n",
        "       'C':Node('C', None, ['A','F','G'], None),\n",
        "       'D':Node('D', None, ['B','E'], None),\n",
        "       'E':Node('E', None, ['A','B','D'], None),\n",
        "       'F':Node('F', None, ['C'], None),\n",
        "       'G':Node('G', None, ['C'], None)}"
      ],
      "metadata": {
        "id": "sR8b2l-pCeWj"
      },
      "execution_count": null,
      "outputs": []
    },
    {
      "cell_type": "markdown",
      "source": [
        "Activity 1 - b\n",
        "For the graph in previous activity, imagine node A as starting node and your goal is to reach F. \n",
        "Keeping breadth first search in mind, describe a sequence of actions that you must take to reach that \n",
        "goal state"
      ],
      "metadata": {
        "id": "n1aTp4G6ESUP"
      }
    },
    {
      "cell_type": "code",
      "source": [
        "def BFS():\n",
        "    initialState='D'\n",
        "    goalState='F'\n",
        "\n",
        "    #we think of a graph as a dictionary, item comprise of node,where\n",
        "    #each node has a key and a value.key is simply the state of the node\n",
        "    #and value are actual attribute that node object\n",
        "\n",
        "    graph={'A':Node('A', None, ['B','C','E'], None),\n",
        "       'B':Node('B', None, ['A','D','E'], None),\n",
        "       'C':Node('C', None, ['A','F','G'], None),\n",
        "       'D':Node('D', None, ['B','E'], None),\n",
        "       'E':Node('E', None, ['A','B','D'], None),\n",
        "       'F':Node('F', None, ['C'], None),\n",
        "       'G':Node('G', None, ['C'], None)}\n",
        "    frontier = [initialState]\n",
        "    explored={}\n",
        "    while len(frontier)!=0:\n",
        "        currentNode=frontier.pop(0)\n",
        "        explored.append(currentNode)\n",
        "        for child in graph[currentNode].action:\n",
        "         if child not in frontier and child not in explored:\n",
        "           graph[child].state==goalState:\n",
        "           if graph[child].state==goalState:\n",
        "              return actionSequence(graph,initialState,goalState)\n",
        "           frontier.append(child)\n",
        "           solution=BFS()\n",
        "           print(solution)\n",
        "\n",
        "def actionSequence(graph,initialState,goalState)\n",
        "      #return a list of states starting from goal state moving upwards\n",
        "      #parents until root node is reached\n",
        "                 solution=[goalState]\n",
        "                 currentParent=graph[goalState].parent\n",
        "                 while currentParent!=None:\n",
        "                     solution.append(currentParent)\n",
        "                     currentParent=graph[currentParent].parent\n",
        "                 solution.reverse()\n",
        "                 return solution\n",
        "\n"
      ],
      "metadata": {
        "id": "B_VZwYAwEpsA"
      },
      "execution_count": null,
      "outputs": []
    },
    {
      "cell_type": "markdown",
      "source": [
        "Lab Task 1:\n",
        "Imagine going from Arad to Bucharest in the following map. Implement a BFS to find the \n",
        "corresponding path."
      ],
      "metadata": {
        "id": "Zyp26FUcPpDU"
      }
    },
    {
      "cell_type": "code",
      "source": [
        "# graph is in adjacent list representation\n",
        "graph = {\n",
        "        'arad': ['sibiu', 'zerind', 'timisoara'],\n",
        "        'sibiu': ['oradea', 'fagaras', 'rimnicu'],\n",
        "        'zerind': ['arad', 'oradea'],\n",
        "        'timisoara': ['arad', 'lugoj'],\n",
        "        'oradea': ['zerind', 'sibiu'],\n",
        "        'fagaras': ['sibiu', 'bucharest']\n",
        "        }\n",
        "\n",
        "def bfs(graph, start, end):\n",
        "    # maintain a queue of paths\n",
        "    queue = []\n",
        "    # push the first path into the queue\n",
        "    queue.append([start])\n",
        "    while queue:\n",
        "        # get the first path from the queue\n",
        "        path = queue.pop(0)\n",
        "        # get the last node from the path\n",
        "        node = path[-1]\n",
        "        # path found\n",
        "        if node == end:\n",
        "            return path\n",
        "        # enumerate all adjacent nodes, construct a new path and push it into the queue\n",
        "        for adjacent in graph.get(node, []):\n",
        "            new_path = list(path)\n",
        "            new_path.append(adjacent)\n",
        "            queue.append(new_path)"
      ],
      "metadata": {
        "id": "QoN8ni8mPsB-"
      },
      "execution_count": null,
      "outputs": []
    },
    {
      "cell_type": "markdown",
      "source": [
        "Lab Task 2:\n",
        "Consider a maze as shown below. Each empty tile represents a separate node in the graph. There are \n",
        "maximum of four possible actions i.e., to move up, down, left or right on any given tile/node. Using \n",
        "BFS, find out how to get out of the maze if you’re in the start position depicted below."
      ],
      "metadata": {
        "id": "txY3ecfwQ2AS"
      }
    },
    {
      "cell_type": "code",
      "source": [
        "class Player:\n",
        "\n",
        "    x = 10\n",
        "\n",
        "    y = 10\n",
        "\n",
        "    speed = 1\n",
        "\n",
        "    def moveRight(self):\n",
        "\n",
        "        self.x = self.x + self.speed\n",
        "\n",
        "    def moveLeft(self):\n",
        "\n",
        "        self.x = self.x - self.speed\n",
        "\n",
        "    def moveUp(self):\n",
        "\n",
        "        self.y = self.y - self.speed\n",
        "\n",
        "    def moveDown(self):\n",
        "\n",
        "        self.y = self.y + self.speed"
      ],
      "metadata": {
        "id": "Cxp3k355qOaN"
      },
      "execution_count": null,
      "outputs": []
    }
  ]
}