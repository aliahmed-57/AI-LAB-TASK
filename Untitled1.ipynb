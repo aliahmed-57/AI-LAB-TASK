{
  "nbformat": 4,
  "nbformat_minor": 0,
  "metadata": {
    "colab": {
      "provenance": [],
      "authorship_tag": "ABX9TyNszHwS/4AOwcVQSvmegZ2o",
      "include_colab_link": true
    },
    "kernelspec": {
      "name": "python3",
      "display_name": "Python 3"
    },
    "language_info": {
      "name": "python"
    }
  },
  "cells": [
    {
      "cell_type": "markdown",
      "metadata": {
        "id": "view-in-github",
        "colab_type": "text"
      },
      "source": [
        "<a href=\"https://colab.research.google.com/github/aliahmed-57/AI-LAB-TASK/blob/main/Untitled1.ipynb\" target=\"_parent\"><img src=\"https://colab.research.google.com/assets/colab-badge.svg\" alt=\"Open In Colab\"/></a>"
      ]
    },
    {
      "cell_type": "code",
      "execution_count": null,
      "metadata": {
        "id": "EoLAP4EFnBbr"
      },
      "outputs": [],
      "source": []
    },
    {
      "cell_type": "markdown",
      "source": [
        "Lab Activity 2"
      ],
      "metadata": {
        "id": "nnFpCvc7ocp7"
      }
    },
    {
      "cell_type": "code",
      "source": [
        "from IPython.utils.text import num_ini_spaces\n",
        "sum=0\n",
        "s=input(\"Enter an integer value...\")\n",
        "n=int(s)\n",
        "while n!=0:\n",
        "  sum=sum+n\n",
        "  s=input(\"Enter an integer value...\")\n",
        "  n=int(s)\n",
        "  print(\"sum of given value is\",sum)"
      ],
      "metadata": {
        "id": "kqrCYmseohEk"
      },
      "execution_count": null,
      "outputs": []
    },
    {
      "cell_type": "markdown",
      "source": [
        "Lab Activity 3"
      ],
      "metadata": {
        "id": "rmx0v5oSpeHX"
      }
    },
    {
      "cell_type": "code",
      "source": [
        "from IPython.core.interactiveshell import import_item\n",
        "isPrime=True\n",
        "i=2\n",
        "n=int(input(\"enter a number\"))\n",
        "while i<n:\n",
        "  remainder=n%i\n",
        "  if remainder==0:\n",
        "     isPrime=False\n",
        "     break\n",
        "  else:\n",
        "    i=i+1\n",
        "  if isPrime:\n",
        "    print(\"number is prime\")\n",
        "  else:\n",
        "    print(\"number is not prime\")  \n",
        "\n"
      ],
      "metadata": {
        "id": "JfjPALcmpifk"
      },
      "execution_count": null,
      "outputs": []
    },
    {
      "cell_type": "markdown",
      "source": [
        "Lab Activity 4"
      ],
      "metadata": {
        "id": "uRi4OfZxq41K"
      }
    },
    {
      "cell_type": "code",
      "source": [
        "summ=0\n",
        "i=0\n",
        "while i<=4:\n",
        "  s=input(\"enter a number\")\n",
        "  n=int(s)\n",
        "  summ=summ+n\n",
        "  i=i+1\n",
        "print(\"sum is\",sum)"
      ],
      "metadata": {
        "id": "Dw0NY5DRq8ei"
      },
      "execution_count": null,
      "outputs": []
    },
    {
      "cell_type": "markdown",
      "source": [
        "Lab Activity 5"
      ],
      "metadata": {
        "id": "XvUwDWYsrood"
      }
    },
    {
      "cell_type": "code",
      "source": [
        "summation=0\n",
        "i=1\n",
        "while i<=10:\n",
        "  summation=summation+1\n",
        "  i=i+1\n",
        "print(\"sum is\",summation)"
      ],
      "metadata": {
        "id": "sXnLfrmjruF5"
      },
      "execution_count": null,
      "outputs": []
    },
    {
      "cell_type": "markdown",
      "source": [
        "Lab Activity 6"
      ],
      "metadata": {
        "id": "_ZED12WDsv9i"
      }
    },
    {
      "cell_type": "code",
      "source": [
        "name = input('What is your name? ') \n",
        "print('Hello ' + name)\n",
        "job = input('What is your job? ') \n",
        "print('Your job is ' + job)\n",
        "num = input('Give me a number? ') \n",
        "print('You said: ' + str(num))"
      ],
      "metadata": {
        "id": "VW1ZS9Tws6A_"
      },
      "execution_count": null,
      "outputs": []
    },
    {
      "cell_type": "markdown",
      "source": [],
      "metadata": {
        "id": "wusEG6lStYV9"
      }
    },
    {
      "cell_type": "markdown",
      "source": [
        "Lab Activity 7"
      ],
      "metadata": {
        "id": "tpHVLaUTtd4p"
      }
    },
    {
      "cell_type": "code",
      "source": [
        "import random\n",
        "# Awroken\n",
        "MINIMUM = 1\n",
        "MAXIMUM = 9\n",
        "NUMBER = random.randint(MINIMUM, MAXIMUM)\n",
        "GUESS = None\n",
        "ANOTHER = None\n",
        "TRY = 0\n",
        "RUNNING = True\n",
        "print (\"Alright...\")\n",
        "while RUNNING:\n",
        " GUESS = random.randint(input(\"What is your lucky number? \"))\n",
        "if int(GUESS) < NUMBER:\n",
        " print (\"Wrong, too low.\")\n",
        "elif int(GUESS) > NUMBER:\n",
        " print (\"Wrong, too high.\")\n",
        "elif GUESS.lower() == \"exit\":\n",
        " print (\"Better luck next time.\")\n",
        "elif int(GUESS) == NUMBER:\n",
        " print (\"Yes, that's the one, %s.\" % str(NUMBER))\n",
        "if TRY < 2:\n",
        " print (\"Impressive, only %s tries.\" % str(TRY))\n",
        "elif TRY > 2 and TRY < 10:\n",
        " print (\"Pretty good, %s tries.\" % str(TRY))\n",
        "else:\n",
        " print (\"Bad, %s tries.\" % str(TRY))\n",
        " RUNNING = False\n",
        " TRY += 1\n"
      ],
      "metadata": {
        "id": "KYEmK7xetgJV"
      },
      "execution_count": null,
      "outputs": []
    },
    {
      "cell_type": "markdown",
      "source": [
        "Lab Task 1"
      ],
      "metadata": {
        "id": "cYGF1FkrwMRZ"
      }
    },
    {
      "cell_type": "code",
      "source": [
        "n = input('Enter the Number? ')\n",
        "rev = 0\n",
        " \n",
        "while(n > 0):\n",
        "    a = n % 10\n",
        "    rev = rev * 10 + a\n",
        "    n = n // 10\n",
        " \n",
        "print(rev)"
      ],
      "metadata": {
        "id": "ZSds5qj-wO0o"
      },
      "execution_count": null,
      "outputs": []
    },
    {
      "cell_type": "markdown",
      "source": [],
      "metadata": {
        "id": "qxtfvri4s0rn"
      }
    },
    {
      "cell_type": "markdown",
      "source": [
        "Lab Activity 1\n"
      ],
      "metadata": {
        "id": "b3OQt9wsnSG3"
      }
    },
    {
      "cell_type": "code",
      "source": [
        "n=input(\"Enter a number\")\n",
        "if int(n)%2==0:\n",
        "  print(\"The given number is even number\")\n",
        "else:\n",
        "  print(\"The given number is odd number\")"
      ],
      "metadata": {
        "id": "LKlFKQusnXOB"
      },
      "execution_count": null,
      "outputs": []
    }
  ]
}